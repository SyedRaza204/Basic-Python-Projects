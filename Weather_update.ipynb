{
  "nbformat": 4,
  "nbformat_minor": 0,
  "metadata": {
    "colab": {
      "name": "Weather update.ipynb",
      "provenance": [],
      "authorship_tag": "ABX9TyOUKrcEoCwLdOoRnByTRF08"
    },
    "kernelspec": {
      "name": "python3",
      "display_name": "Python 3"
    },
    "language_info": {
      "name": "python"
    }
  },
  "cells": [
    {
      "cell_type": "code",
      "metadata": {
        "id": "C0PSwpl89fQm"
      },
      "source": [
        "#importing pkg\n",
        "import requests"
      ],
      "execution_count": 3,
      "outputs": []
    },
    {
      "cell_type": "code",
      "metadata": {
        "colab": {
          "base_uri": "https://localhost:8080/"
        },
        "id": "zAzd7J1z_Xdy",
        "outputId": "9dac421a-1099-489f-ca10-9abb17fda7e8"
      },
      "source": [
        "#Getting api from openweathermap.org\n",
        "def weather_data(query):\n",
        "\tres=requests.get('http://api.openweathermap.org/data/2.5/weather?'+query+'&APPID=b35975e18dc93725acb092f7272cc6b8&units=metric');\n",
        "\treturn res.json();\n",
        "\n",
        "#Scrap info from that page  \n",
        "def print_weather(result,city):\n",
        "\tprint(\"{}'s temperature: {}°C \".format(city,result['main']['temp']))\n",
        "\tprint(\"Wind speed: {} m/s\".format(result['wind']['speed']))\n",
        "\tprint(\"Description: {}\".format(result['weather'][0]['description']))\n",
        "\tprint(\"Weather: {}\".format(result['weather'][0]['main']))\n",
        "\n",
        "#user input\n",
        "def main():\n",
        "\tcity=input('Enter the city:')\n",
        "\tprint()\n",
        "\ttry:\n",
        "\t  query='q='+city;\n",
        "\t  w_data=weather_data(query);\n",
        "\t  print_weather(w_data, city)\n",
        "\t  print()\n",
        "\texcept:\n",
        "\t  print('City name not found...')\n",
        "if __name__=='__main__':\n",
        "\tmain()\n"
      ],
      "execution_count": 2,
      "outputs": [
        {
          "output_type": "stream",
          "text": [
            "Enter the city:karachi\n",
            "\n",
            "karachi's temperature: 32.9°C \n",
            "Wind speed: 8.23 m/s\n",
            "Description: broken clouds\n",
            "Weather: Clouds\n",
            "\n"
          ],
          "name": "stdout"
        }
      ]
    },
    {
      "cell_type": "code",
      "metadata": {
        "id": "_bZZiAOAA-es"
      },
      "source": [
        ""
      ],
      "execution_count": 2,
      "outputs": []
    }
  ]
}