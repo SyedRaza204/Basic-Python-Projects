{
  "nbformat": 4,
  "nbformat_minor": 0,
  "metadata": {
    "colab": {
      "name": "Hello, Colaboratory",
      "version": "0.3.2",
      "provenance": [],
      "collapsed_sections": [],
      "toc_visible": true,
      "include_colab_link": true
    },
    "kernelspec": {
      "display_name": "Python 3",
      "name": "python3"
    }
  },
  "cells": [
    {
      "cell_type": "markdown",
      "metadata": {
        "id": "view-in-github",
        "colab_type": "text"
      },
      "source": [
        "<a href=\"https://colab.research.google.com/github/SyedRaza204/Small-Python-Projects/blob/master/wolfram.ipynb\" target=\"_parent\"><img src=\"https://colab.research.google.com/assets/colab-badge.svg\" alt=\"Open In Colab\"/></a>"
      ]
    },
    {
      "metadata": {
        "colab_type": "text",
        "id": "9J7p406abzgl"
      },
      "cell_type": "markdown",
      "source": [
        "<img height=\"60px\" src=\"https://colab.research.google.com/img/colab_favicon.ico\" align=\"left\" hspace=\"20px\" vspace=\"5px\">\n",
        "\n",
        "<h1>Welcome to Colaboratory!</h1>\n",
        "Colaboratory is a free Jupyter notebook environment that requires no setup and runs entirely in the cloud. See our [FAQ](https://research.google.com/colaboratory/faq.html) for more info."
      ]
    },
    {
      "metadata": {
        "id": "TaX84avoXKe5",
        "colab_type": "code",
        "colab": {
          "base_uri": "https://localhost:8080/",
          "height": 276
        },
        "outputId": "98fb03bb-1bfb-46d3-a25a-5d5f5f6dd102"
      },
      "cell_type": "code",
      "source": [
        "!pip install wolframalpha"
      ],
      "execution_count": 10,
      "outputs": [
        {
          "output_type": "stream",
          "text": [
            "Collecting wolframalpha\n",
            "  Downloading https://files.pythonhosted.org/packages/11/59/0344ef8af315626203b9711fc4c8c794ad175424a9d71fd5c28e6463e387/wolframalpha-3.0.1-py2.py3-none-any.whl\n",
            "Requirement already satisfied: six in /usr/local/lib/python3.6/dist-packages (from wolframalpha) (1.11.0)\n",
            "Collecting xmltodict (from wolframalpha)\n",
            "  Downloading https://files.pythonhosted.org/packages/42/a9/7e99652c6bc619d19d58cdd8c47560730eb5825d43a7e25db2e1d776ceb7/xmltodict-0.11.0-py2.py3-none-any.whl\n",
            "Collecting jaraco.itertools>=2.0 (from wolframalpha)\n",
            "  Downloading https://files.pythonhosted.org/packages/ca/aa/4189874b175244f627e766a98fa9272ae4e86c36d15b80010160267b3d33/jaraco.itertools-3.0.0-py2.py3-none-any.whl\n",
            "Requirement already satisfied: more-itertools>=4.0.0 in /usr/local/lib/python3.6/dist-packages (from jaraco.itertools>=2.0->wolframalpha) (4.3.0)\n",
            "Collecting inflect (from jaraco.itertools>=2.0->wolframalpha)\n",
            "\u001b[?25l  Downloading https://files.pythonhosted.org/packages/86/02/e6b11020a9c37d25b4767a1d0af5835629f6e75d6f51553ad07a4c73dc31/inflect-2.1.0-py2.py3-none-any.whl (40kB)\n",
            "\u001b[K    100% |████████████████████████████████| 51kB 5.8MB/s \n",
            "\u001b[?25hInstalling collected packages: xmltodict, inflect, jaraco.itertools, wolframalpha\n",
            "Successfully installed inflect-2.1.0 jaraco.itertools-3.0.0 wolframalpha-3.0.1 xmltodict-0.11.0\n"
          ],
          "name": "stdout"
        }
      ]
    },
    {
      "metadata": {
        "id": "XuXnUlBbR4Nh",
        "colab_type": "code",
        "colab": {}
      },
      "cell_type": "code",
      "source": [
        "import wolframalpha"
      ],
      "execution_count": 0,
      "outputs": []
    },
    {
      "metadata": {
        "id": "AaM5XZ6XXWYR",
        "colab_type": "code",
        "colab": {
          "base_uri": "https://localhost:8080/",
          "height": 54
        },
        "outputId": "78c43b37-7d9d-434d-b1a9-f103f07d910b"
      },
      "cell_type": "code",
      "source": [
        "q1 = \"Who is the 1st president of Pakistan\"\n",
        "q2 = \"Who is the RECENT president of Pakistan\"\n",
        "app_id = \"8UHTA8-5QGXGEJ4AT\"\n",
        "client = wolframalpha.Client(app_id)\n",
        "res1 = client.query(q1)\n",
        "res2 = client.query(q2)\n",
        "answer1 = next(res1.results).text\n",
        "answer2 = next(res2.results).text\n",
        "print (\"Answer of 1 \" + answer1)\n",
        "print (\" Answer of 2 \" + answer2)"
      ],
      "execution_count": 39,
      "outputs": [
        {
          "output_type": "stream",
          "text": [
            "Answer of 1 Iskander Mirza (from March 23, 1956 to October 27, 1958)\n",
            " Answer of 2 Mamnoon Hussain (from September 9, 2013 to present)\n"
          ],
          "name": "stdout"
        }
      ]
    }
  ]
}