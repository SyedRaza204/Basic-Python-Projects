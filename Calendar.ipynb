{
  "nbformat": 4,
  "nbformat_minor": 0,
  "metadata": {
    "colab": {
      "name": "Calendar.ipynb",
      "provenance": [],
      "authorship_tag": "ABX9TyP9PgXX6A2GuCr/PP7t/YFI",
      "include_colab_link": true
    },
    "kernelspec": {
      "name": "python3",
      "display_name": "Python 3"
    },
    "language_info": {
      "name": "python"
    }
  },
  "cells": [
    {
      "cell_type": "markdown",
      "metadata": {
        "id": "view-in-github",
        "colab_type": "text"
      },
      "source": [
        "<a href=\"https://colab.research.google.com/github/SyedRaza204/Basic-Python-Projects/blob/master/Calendar.ipynb\" target=\"_parent\"><img src=\"https://colab.research.google.com/assets/colab-badge.svg\" alt=\"Open In Colab\"/></a>"
      ]
    },
    {
      "cell_type": "markdown",
      "metadata": {
        "id": "EzlpDIYe_ea_"
      },
      "source": [
        "# Program to display calendar of the given month and year"
      ]
    },
    {
      "cell_type": "code",
      "metadata": {
        "id": "AGwSY1ED8Q6m"
      },
      "source": [
        "import calendar"
      ],
      "execution_count": 4,
      "outputs": []
    },
    {
      "cell_type": "code",
      "metadata": {
        "colab": {
          "base_uri": "https://localhost:8080/"
        },
        "id": "w8lBXQWS8tuf",
        "outputId": "10dd3842-20d5-4f55-90a0-aafd35d32524"
      },
      "source": [
        "#To take month and year input from the user\n",
        "\n",
        "mm = int(input(\"Enter month \"))\n",
        "yy = int(input(\"Enter year \"))\n",
        "\n",
        "# display the calendar\n",
        "print(calendar.month(yy,mm))"
      ],
      "execution_count": 6,
      "outputs": [
        {
          "output_type": "stream",
          "text": [
            "Enter month7\n",
            "Enter year2021\n",
            "     July 2021\n",
            "Mo Tu We Th Fr Sa Su\n",
            "          1  2  3  4\n",
            " 5  6  7  8  9 10 11\n",
            "12 13 14 15 16 17 18\n",
            "19 20 21 22 23 24 25\n",
            "26 27 28 29 30 31\n",
            "\n"
          ],
          "name": "stdout"
        }
      ]
    },
    {
      "cell_type": "code",
      "metadata": {
        "id": "V58_LhLl983D"
      },
      "source": [
        ""
      ],
      "execution_count": null,
      "outputs": []
    }
  ]
}